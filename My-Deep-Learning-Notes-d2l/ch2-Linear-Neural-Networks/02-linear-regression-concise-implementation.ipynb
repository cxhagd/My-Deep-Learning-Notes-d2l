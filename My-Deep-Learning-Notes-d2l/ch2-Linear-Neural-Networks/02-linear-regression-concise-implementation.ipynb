{
 "cells": [
  {
   "cell_type": "code",
   "execution_count": 22,
   "metadata": {},
   "outputs": [],
   "source": [
    "import numpy as np\n",
    "import torch\n",
    "from torch.utils import data\n",
    "from d2l import torch as d2l\n",
    "\n",
    "true_w=torch.tensor([2,-3.4])\n",
    "true_b=4.2\n",
    "features,labels=d2l.synthetic_data(true_w,true_b,1000 )"
   ]
  },
  {
   "cell_type": "code",
   "execution_count": 28,
   "metadata": {},
   "outputs": [
    {
     "data": {
      "text/plain": [
       "[tensor([[-0.3260,  0.0220],\n",
       "         [-0.2329, -0.0064],\n",
       "         [ 3.0780, -0.6498],\n",
       "         [ 1.5909, -0.0159],\n",
       "         [-1.2903,  0.6305],\n",
       "         [-1.4821, -1.1329],\n",
       "         [-1.0160, -0.5211],\n",
       "         [ 0.0070, -0.8990],\n",
       "         [ 0.1593,  0.9947],\n",
       "         [-0.5824,  1.2027]]),\n",
       " tensor([[ 3.4793],\n",
       "         [ 3.7344],\n",
       "         [12.5697],\n",
       "         [ 7.4316],\n",
       "         [-0.5437],\n",
       "         [ 5.0780],\n",
       "         [ 3.9380],\n",
       "         [ 7.2540],\n",
       "         [ 1.1461],\n",
       "         [-1.0367]])]"
      ]
     },
     "execution_count": 28,
     "metadata": {},
     "output_type": "execute_result"
    }
   ],
   "source": [
    "def load_array(data_arrays,batch_size,is_train=True):#array:数组\n",
    "    \"\"\"构造一个PyTorch数据迭代器\"\"\"\n",
    "    dataset=data.TensorDataset(*data_arrays) # 每次都从里面随机拿数据出来\n",
    "    return data.DataLoader(dataset,batch_size,shuffle=is_train)# shuffle：打乱 \n",
    "batch_size=10       # 把x和y放到array里  传到dataset\n",
    "data_iter=load_array((features,labels),batch_size)\n",
    "next(iter(data_iter))#"
   ]
  },
  {
   "cell_type": "code",
   "execution_count": 29,
   "metadata": {},
   "outputs": [],
   "source": [
    "from torch import nn\n",
    "############         只用线性回归单层学习网络\n",
    "###Sequential:list of layers\n",
    "net = nn.Sequential(nn.Linear(2,1))#输入的维度是2  输出的维度是1"
   ]
  },
  {
   "cell_type": "code",
   "execution_count": 30,
   "metadata": {},
   "outputs": [
    {
     "data": {
      "text/plain": [
       "tensor([0.])"
      ]
     },
     "execution_count": 30,
     "metadata": {},
     "output_type": "execute_result"
    }
   ],
   "source": [
    "#通过0来访问到这个层  weight:w normal_:用正态分布替换data   均值为0 方差0.01\n",
    "net[0].weight.data.normal_(0,0.002)\n",
    "#bias:b\n",
    "net[0].bias.data.fill_(0)\n"
   ]
  },
  {
   "cell_type": "code",
   "execution_count": 31,
   "metadata": {},
   "outputs": [],
   "source": [
    "loss=nn.MSELoss()#平方L2范数"
   ]
  },
  {
   "cell_type": "code",
   "execution_count": 32,
   "metadata": {},
   "outputs": [],
   "source": [
    "trainer=torch.optim.SGD(net.parameters(),lr=0.03)\n",
    "#            optimizer        w  b         lr"
   ]
  },
  {
   "cell_type": "code",
   "execution_count": 34,
   "metadata": {},
   "outputs": [
    {
     "name": "stdout",
     "output_type": "stream",
     "text": [
      "epoch 1, loss   0.000103\n",
      "epoch 2, loss   0.000104\n",
      "epoch 3, loss   0.000103\n"
     ]
    }
   ],
   "source": [
    "num_epochs=3\n",
    "for epoch in range(num_epochs):\n",
    "    for X,y in data_iter:#把X和y拿出来\n",
    "        l=loss(net(X),y)#  放在net里面 计算loss\n",
    "        trainer.zero_grad()# 梯度清零\n",
    "        l.backward()# 反向传播计算梯度\n",
    "        trainer.step()# 模型更新\n",
    "    l=loss(net(features),labels)\n",
    "    print(f'epoch {epoch+1}, loss {l:10f}')#不要把l打成1"
   ]
  },
  {
   "cell_type": "code",
   "execution_count": null,
   "metadata": {},
   "outputs": [],
   "source": []
  }
 ],
 "metadata": {
  "kernelspec": {
   "display_name": "d2l",
   "language": "python",
   "name": "python3"
  },
  "language_info": {
   "codemirror_mode": {
    "name": "ipython",
    "version": 3
   },
   "file_extension": ".py",
   "mimetype": "text/x-python",
   "name": "python",
   "nbconvert_exporter": "python",
   "pygments_lexer": "ipython3",
   "version": "3.9.19"
  }
 },
 "nbformat": 4,
 "nbformat_minor": 2
}
