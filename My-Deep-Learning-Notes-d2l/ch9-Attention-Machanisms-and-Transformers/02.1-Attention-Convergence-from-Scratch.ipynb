{
 "cells": [
  {
   "cell_type": "code",
   "execution_count": 18,
   "metadata": {},
   "outputs": [],
   "source": [
    "import torch\n",
    "from torch import nn\n",
    "from d2l import torch as d2l"
   ]
  },
  {
   "cell_type": "code",
   "execution_count": 19,
   "metadata": {},
   "outputs": [
    {
     "data": {
      "text/plain": [
       "(tensor([0.1416, 0.8216, 0.8575, 0.2239, 0.5735, 0.6327, 0.3744, 0.7305, 0.1357,\n",
       "         0.0917, 0.5492, 0.3734, 0.3848, 0.1038, 0.6438, 0.7466, 0.5895, 0.6443,\n",
       "         0.5741, 0.2650, 0.3316, 0.5555, 0.9939, 0.0900, 0.6178, 0.8694, 0.5365,\n",
       "         0.0933, 0.7314, 0.4471, 0.8298, 0.7848, 0.6616, 0.8350, 0.6586, 0.7139,\n",
       "         0.0039, 0.7619, 0.9895, 0.9331, 0.4249, 0.4933, 0.9134, 0.7898, 0.0420,\n",
       "         0.5940, 0.2739, 0.4807, 0.3682, 0.6435]),\n",
       " torch.Size([50]))"
      ]
     },
     "execution_count": 19,
     "metadata": {},
     "output_type": "execute_result"
    }
   ],
   "source": [
    "n_train=50\n",
    "torch.rand(n_train),torch.rand(n_train).shape# 生成50个0-1之间的随机数"
   ]
  },
  {
   "cell_type": "code",
   "execution_count": 20,
   "metadata": {},
   "outputs": [
    {
     "data": {
      "text/plain": [
       "tensor([8.6233, 4.1310, 9.3588, 3.0456, 2.2241, 4.4727, 8.8025, 7.3133, 2.1133,\n",
       "        7.2437, 6.2071, 8.6750, 1.2863, 7.7788, 9.0554, 7.6899, 3.0649, 1.7979,\n",
       "        4.9921, 9.2444, 6.5469, 3.2956, 4.1721, 8.5122, 1.2291, 0.6155, 9.9797,\n",
       "        4.1743, 5.2481, 7.7343, 8.5393, 9.0941, 3.1875, 2.9593, 0.1484, 4.7632,\n",
       "        9.5407, 0.9184, 0.2919, 6.5467, 6.2389, 2.3814, 8.7123, 6.3236, 1.0092,\n",
       "        1.2949, 1.2983, 9.5972, 0.5758, 4.7657])"
      ]
     },
     "execution_count": 20,
     "metadata": {},
     "output_type": "execute_result"
    }
   ],
   "source": [
    "torch.rand(n_train)*10"
   ]
  },
  {
   "cell_type": "code",
   "execution_count": 21,
   "metadata": {},
   "outputs": [
    {
     "data": {
      "text/plain": [
       "(tensor([0.0411, 0.1988, 0.2499, 0.2669, 0.7811, 1.0801, 1.1522, 1.7744, 1.8550,\n",
       "         1.9302, 2.0498, 2.0844, 2.3462, 2.4452, 3.1446, 3.3096, 3.4804, 3.6605,\n",
       "         3.7784, 3.9994, 4.2184, 4.4670, 4.6908, 4.8822, 5.2214, 5.2821, 5.6740,\n",
       "         5.9818, 6.0319, 6.2812, 6.3325, 6.3489, 6.4411, 6.4968, 6.7552, 7.2713,\n",
       "         7.4900, 7.5758, 8.1691, 8.2357, 8.3366, 8.3418, 8.4322, 8.6841, 8.8487,\n",
       "         9.1394, 9.1782, 9.4956, 9.5349, 9.6730]),\n",
       " torch.Size([50]))"
      ]
     },
     "execution_count": 21,
     "metadata": {},
     "output_type": "execute_result"
    }
   ],
   "source": [
    "x_train,_=torch.sort(torch.rand(n_train)*10)\n",
    "x_train,x_train.shape"
   ]
  },
  {
   "cell_type": "code",
   "execution_count": 22,
   "metadata": {},
   "outputs": [
    {
     "data": {
      "text/plain": [
       "(tensor([-0.2078,  0.2063,  0.3600]),\n",
       " tensor([ 0.5288,  0.1809,  0.6450, -0.2214,  0.2886, -0.4434,  0.2961, -0.4041,\n",
       "          0.2921,  0.4158]),\n",
       " tensor([-0.1455,  0.0352,  0.1035, -0.3341,  0.0641, -0.4603, -0.7105,  0.0618,\n",
       "          0.1317, -0.3291,  0.2005, -1.0624,  0.1594,  0.6502,  0.2300,  0.3475,\n",
       "          1.0677,  0.4052,  0.2341,  0.2679,  0.2728,  0.3092,  0.3129,  1.0083,\n",
       "         -0.4221, -0.5332,  0.2227, -0.1896,  0.7200, -0.1981,  0.5912, -0.1464,\n",
       "          0.4779,  0.8391,  0.1127, -0.8268,  0.2645,  0.3728,  0.0459, -0.7349,\n",
       "          1.0267,  0.2519, -1.1484, -0.8201,  0.3122,  0.2945, -0.6831, -0.3367,\n",
       "          0.3471,  0.3321]))"
      ]
     },
     "execution_count": 22,
     "metadata": {},
     "output_type": "execute_result"
    }
   ],
   "source": [
    "torch.normal(0.0,0.5,(3,)),torch.normal(0.0,0.5,(10,)),torch.normal(0.0,0.5,(n_train,))"
   ]
  },
  {
   "cell_type": "code",
   "execution_count": 23,
   "metadata": {},
   "outputs": [
    {
     "data": {
      "text/plain": [
       "(tensor([0.0411, 0.1988, 0.2499, 0.2669, 0.7811, 1.0801, 1.1522, 1.7744, 1.8550,\n",
       "         1.9302, 2.0498, 2.0844, 2.3462, 2.4452, 3.1446, 3.3096, 3.4804, 3.6605,\n",
       "         3.7784, 3.9994, 4.2184, 4.4670, 4.6908, 4.8822, 5.2214, 5.2821, 5.6740,\n",
       "         5.9818, 6.0319, 6.2812, 6.3325, 6.3489, 6.4411, 6.4968, 6.7552, 7.2713,\n",
       "         7.4900, 7.5758, 8.1691, 8.2357, 8.3366, 8.3418, 8.4322, 8.6841, 8.8487,\n",
       "         9.1394, 9.1782, 9.4956, 9.5349, 9.6730]),\n",
       " tensor([-0.4868,  1.2800,  0.3624,  0.4826,  2.1796,  2.7254,  3.3178,  3.7340,\n",
       "          3.9754,  3.7667,  3.8845,  3.6972,  3.8268,  3.3421,  2.7746,  2.0319,\n",
       "          1.9489,  1.6942,  2.0015,  1.2699,  2.1877,  1.3300,  1.5654,  2.5737,\n",
       "          2.7082,  2.4698,  3.8239,  3.4663,  4.5170,  4.7921,  4.2274,  5.1460,\n",
       "          4.0754,  4.8394,  5.6322,  6.2149,  5.6520,  6.6252,  6.4577,  7.3404,\n",
       "          7.2817,  7.9607,  7.1841,  7.4245,  7.1261,  5.8586,  5.7833,  5.3702,\n",
       "          5.9896,  4.9366]))"
      ]
     },
     "execution_count": 23,
     "metadata": {},
     "output_type": "execute_result"
    }
   ],
   "source": [
    "def f(x):\n",
    "    return 2*torch.sin(x)+x**0.8\n",
    "    \n",
    "\n",
    "y_train=f(x_train)+torch.normal(0.0,0.5,(n_train,))\n",
    "x_train,y_train"
   ]
  },
  {
   "cell_type": "code",
   "execution_count": 24,
   "metadata": {},
   "outputs": [
    {
     "data": {
      "text/plain": [
       "tensor([0.0000, 0.1000, 0.2000, 0.3000, 0.4000, 0.5000, 0.6000, 0.7000, 0.8000,\n",
       "        0.9000, 1.0000, 1.1000, 1.2000, 1.3000, 1.4000, 1.5000, 1.6000, 1.7000,\n",
       "        1.8000, 1.9000, 2.0000, 2.1000, 2.2000, 2.3000, 2.4000, 2.5000, 2.6000,\n",
       "        2.7000, 2.8000, 2.9000, 3.0000, 3.1000, 3.2000, 3.3000, 3.4000, 3.5000,\n",
       "        3.6000, 3.7000, 3.8000, 3.9000, 4.0000, 4.1000, 4.2000, 4.3000, 4.4000,\n",
       "        4.5000, 4.6000, 4.7000, 4.8000, 4.9000])"
      ]
     },
     "execution_count": 24,
     "metadata": {},
     "output_type": "execute_result"
    }
   ],
   "source": [
    "torch.arange(0,5,0.1)"
   ]
  },
  {
   "cell_type": "code",
   "execution_count": 25,
   "metadata": {},
   "outputs": [
    {
     "data": {
      "text/plain": [
       "(tensor([0.0000, 0.1000, 0.2000, 0.3000, 0.4000, 0.5000, 0.6000, 0.7000, 0.8000,\n",
       "         0.9000, 1.0000, 1.1000, 1.2000, 1.3000, 1.4000, 1.5000, 1.6000, 1.7000,\n",
       "         1.8000, 1.9000, 2.0000, 2.1000, 2.2000, 2.3000, 2.4000, 2.5000, 2.6000,\n",
       "         2.7000, 2.8000, 2.9000, 3.0000, 3.1000, 3.2000, 3.3000, 3.4000, 3.5000,\n",
       "         3.6000, 3.7000, 3.8000, 3.9000, 4.0000, 4.1000, 4.2000, 4.3000, 4.4000,\n",
       "         4.5000, 4.6000, 4.7000, 4.8000, 4.9000]),\n",
       " torch.Size([50]))"
      ]
     },
     "execution_count": 25,
     "metadata": {},
     "output_type": "execute_result"
    }
   ],
   "source": [
    "x_test=torch.arange(0,5,0.1)\n",
    "x_test,x_test.shape"
   ]
  },
  {
   "cell_type": "code",
   "execution_count": 26,
   "metadata": {},
   "outputs": [
    {
     "data": {
      "text/plain": [
       "50"
      ]
     },
     "execution_count": 26,
     "metadata": {},
     "output_type": "execute_result"
    }
   ],
   "source": [
    "y_truth=f(x_test)\n",
    "n_test=len(x_test)\n",
    "n_test"
   ]
  },
  {
   "cell_type": "code",
   "execution_count": 27,
   "metadata": {},
   "outputs": [],
   "source": [
    "# plot_kernel_reg: 绘制核回归 (Kernel Regression) 的函数定义\n",
    "def plot_kernel_reg(y_hat):\n",
    "    # y_hat: 预测值 (Predicted values)\n",
    "    \n",
    "    # 使用 d2l.plot 绘制测试数据 x_test 的真实值 y_truth 和预测值 y_hat\n",
    "    # 'x' 和 'y' 分别是 x 轴和 y 轴的标签\n",
    "    # legend 参数用于图例，显示 'Truth' 和 'Pred'\n",
    "    # xlim 和 ylim 分别设置 x 轴和 y 轴的限制\n",
    "    d2l.plot(x_test, [y_truth, y_hat], 'x', 'y', legend=['Truth', 'Pred'],\n",
    "             xlim=[0, 5], ylim=[-1, 5])\n",
    "    \n",
    "    # 使用 d2l.plt.plot 绘制训练数据 x_train 和 y_train\n",
    "    # 'o' 表示绘制圆形标记，alpha 参数设置透明度为 0.5\n",
    "    d2l.plt.plot(x_train, y_train, 'o', alpha=0.5)\n"
   ]
  },
  {
   "cell_type": "code",
   "execution_count": 28,
   "metadata": {},
   "outputs": [
    {
     "data": {
      "text/plain": [
       "(tensor([-0.4868,  1.2800,  0.3624,  0.4826,  2.1796,  2.7254,  3.3178,  3.7340,\n",
       "          3.9754,  3.7667,  3.8845,  3.6972,  3.8268,  3.3421,  2.7746,  2.0319,\n",
       "          1.9489,  1.6942,  2.0015,  1.2699,  2.1877,  1.3300,  1.5654,  2.5737,\n",
       "          2.7082,  2.4698,  3.8239,  3.4663,  4.5170,  4.7921,  4.2274,  5.1460,\n",
       "          4.0754,  4.8394,  5.6322,  6.2149,  5.6520,  6.6252,  6.4577,  7.3404,\n",
       "          7.2817,  7.9607,  7.1841,  7.4245,  7.1261,  5.8586,  5.7833,  5.3702,\n",
       "          5.9896,  4.9366]),\n",
       " tensor(3.9674),\n",
       " 50,\n",
       " tensor([3.9674, 3.9674, 3.9674, 3.9674, 3.9674, 3.9674, 3.9674, 3.9674, 3.9674,\n",
       "         3.9674, 3.9674, 3.9674, 3.9674, 3.9674, 3.9674, 3.9674, 3.9674, 3.9674,\n",
       "         3.9674, 3.9674, 3.9674, 3.9674, 3.9674, 3.9674, 3.9674, 3.9674, 3.9674,\n",
       "         3.9674, 3.9674, 3.9674, 3.9674, 3.9674, 3.9674, 3.9674, 3.9674, 3.9674,\n",
       "         3.9674, 3.9674, 3.9674, 3.9674, 3.9674, 3.9674, 3.9674, 3.9674, 3.9674,\n",
       "         3.9674, 3.9674, 3.9674, 3.9674, 3.9674]))"
      ]
     },
     "execution_count": 28,
     "metadata": {},
     "output_type": "execute_result"
    }
   ],
   "source": [
    "y_train,y_train.mean(),n_test,torch.repeat_interleave(y_train.mean(),n_test)"
   ]
  },
  {
   "cell_type": "code",
   "execution_count": 29,
   "metadata": {},
   "outputs": [
    {
     "data": {
      "text/plain": [
       "tensor([3.9674, 3.9674, 3.9674, 3.9674, 3.9674, 3.9674, 3.9674, 3.9674, 3.9674,\n",
       "        3.9674, 3.9674, 3.9674, 3.9674, 3.9674, 3.9674, 3.9674, 3.9674, 3.9674,\n",
       "        3.9674, 3.9674, 3.9674, 3.9674, 3.9674, 3.9674, 3.9674, 3.9674, 3.9674,\n",
       "        3.9674, 3.9674, 3.9674, 3.9674, 3.9674, 3.9674, 3.9674, 3.9674, 3.9674,\n",
       "        3.9674, 3.9674, 3.9674, 3.9674, 3.9674, 3.9674, 3.9674, 3.9674, 3.9674,\n",
       "        3.9674, 3.9674, 3.9674, 3.9674, 3.9674])"
      ]
     },
     "execution_count": 29,
     "metadata": {},
     "output_type": "execute_result"
    }
   ],
   "source": [
    "y_hat = torch.repeat_interleave(y_train.mean(), n_test)\n",
    "y_hat #用均值估计所有x对应的y"
   ]
  },
  {
   "cell_type": "code",
   "execution_count": 30,
   "metadata": {},
   "outputs": [],
   "source": [
    "#  根据输入位置  对输出yi 进行加权 和xi近的y权重就大\n",
    "# test序列相当于key  对于一个test[i] 我希望预测它的yi_hat\n",
    "#  test是q      train_y是values"
   ]
  },
  {
   "cell_type": "code",
   "execution_count": 31,
   "metadata": {},
   "outputs": [
    {
     "data": {
      "text/plain": [
       "(tensor([0.0000, 0.1000, 0.2000, 0.3000, 0.4000, 0.5000, 0.6000, 0.7000, 0.8000,\n",
       "         0.9000, 1.0000, 1.1000, 1.2000, 1.3000, 1.4000, 1.5000, 1.6000, 1.7000,\n",
       "         1.8000, 1.9000, 2.0000, 2.1000, 2.2000, 2.3000, 2.4000, 2.5000, 2.6000,\n",
       "         2.7000, 2.8000, 2.9000, 3.0000, 3.1000, 3.2000, 3.3000, 3.4000, 3.5000,\n",
       "         3.6000, 3.7000, 3.8000, 3.9000, 4.0000, 4.1000, 4.2000, 4.3000, 4.4000,\n",
       "         4.5000, 4.6000, 4.7000, 4.8000, 4.9000]),\n",
       " torch.Size([50]),\n",
       " tensor([0.0000, 0.0000, 0.0000,  ..., 4.9000, 4.9000, 4.9000]),\n",
       " torch.Size([2500]))"
      ]
     },
     "execution_count": 31,
     "metadata": {},
     "output_type": "execute_result"
    }
   ],
   "source": [
    "x_test,x_test.shape,x_test.repeat_interleave(n_train),x_test.repeat_interleave(n_train).shape"
   ]
  },
  {
   "cell_type": "code",
   "execution_count": 32,
   "metadata": {},
   "outputs": [
    {
     "data": {
      "text/plain": [
       "(tensor([[0.0000, 0.0000, 0.0000,  ..., 0.0000, 0.0000, 0.0000],\n",
       "         [0.1000, 0.1000, 0.1000,  ..., 0.1000, 0.1000, 0.1000],\n",
       "         [0.2000, 0.2000, 0.2000,  ..., 0.2000, 0.2000, 0.2000],\n",
       "         ...,\n",
       "         [4.7000, 4.7000, 4.7000,  ..., 4.7000, 4.7000, 4.7000],\n",
       "         [4.8000, 4.8000, 4.8000,  ..., 4.8000, 4.8000, 4.8000],\n",
       "         [4.9000, 4.9000, 4.9000,  ..., 4.9000, 4.9000, 4.9000]]),\n",
       " torch.Size([50, 50]))"
      ]
     },
     "execution_count": 32,
     "metadata": {},
     "output_type": "execute_result"
    }
   ],
   "source": [
    "x_test.repeat_interleave(n_train).reshape((-1, n_train)),x_test.repeat_interleave(n_train).reshape((-1, n_train)).shape"
   ]
  },
  {
   "cell_type": "code",
   "execution_count": 33,
   "metadata": {},
   "outputs": [],
   "source": [
    "X_repeat = x_test.repeat_interleave(n_train).reshape((-1, n_train))"
   ]
  },
  {
   "cell_type": "code",
   "execution_count": 34,
   "metadata": {},
   "outputs": [
    {
     "data": {
      "text/plain": [
       "(tensor([[0.0000, 0.0000, 0.0000,  ..., 0.0000, 0.0000, 0.0000],\n",
       "         [0.1000, 0.1000, 0.1000,  ..., 0.1000, 0.1000, 0.1000],\n",
       "         [0.2000, 0.2000, 0.2000,  ..., 0.2000, 0.2000, 0.2000],\n",
       "         ...,\n",
       "         [4.7000, 4.7000, 4.7000,  ..., 4.7000, 4.7000, 4.7000],\n",
       "         [4.8000, 4.8000, 4.8000,  ..., 4.8000, 4.8000, 4.8000],\n",
       "         [4.9000, 4.9000, 4.9000,  ..., 4.9000, 4.9000, 4.9000]]),\n",
       " torch.Size([50, 50]),\n",
       " tensor([0.0411, 0.1988, 0.2499, 0.2669, 0.7811, 1.0801, 1.1522, 1.7744, 1.8550,\n",
       "         1.9302, 2.0498, 2.0844, 2.3462, 2.4452, 3.1446, 3.3096, 3.4804, 3.6605,\n",
       "         3.7784, 3.9994, 4.2184, 4.4670, 4.6908, 4.8822, 5.2214, 5.2821, 5.6740,\n",
       "         5.9818, 6.0319, 6.2812, 6.3325, 6.3489, 6.4411, 6.4968, 6.7552, 7.2713,\n",
       "         7.4900, 7.5758, 8.1691, 8.2357, 8.3366, 8.3418, 8.4322, 8.6841, 8.8487,\n",
       "         9.1394, 9.1782, 9.4956, 9.5349, 9.6730]),\n",
       " torch.Size([50]))"
      ]
     },
     "execution_count": 34,
     "metadata": {},
     "output_type": "execute_result"
    }
   ],
   "source": [
    "X_repeat, X_repeat.shape,x_train, x_train.shape"
   ]
  },
  {
   "cell_type": "code",
   "execution_count": 35,
   "metadata": {},
   "outputs": [
    {
     "data": {
      "text/plain": [
       "(tensor([[-4.1060e-02, -1.9879e-01, -2.4988e-01,  ..., -9.4956e+00,\n",
       "          -9.5349e+00, -9.6730e+00],\n",
       "         [ 5.8940e-02, -9.8787e-02, -1.4988e-01,  ..., -9.3956e+00,\n",
       "          -9.4349e+00, -9.5730e+00],\n",
       "         [ 1.5894e-01,  1.2126e-03, -4.9876e-02,  ..., -9.2956e+00,\n",
       "          -9.3349e+00, -9.4730e+00],\n",
       "         ...,\n",
       "         [ 4.6589e+00,  4.5012e+00,  4.4501e+00,  ..., -4.7956e+00,\n",
       "          -4.8349e+00, -4.9730e+00],\n",
       "         [ 4.7589e+00,  4.6012e+00,  4.5501e+00,  ..., -4.6956e+00,\n",
       "          -4.7349e+00, -4.8730e+00],\n",
       "         [ 4.8589e+00,  4.7012e+00,  4.6501e+00,  ..., -4.5956e+00,\n",
       "          -4.6349e+00, -4.7730e+00]]),\n",
       " torch.Size([50, 50]))"
      ]
     },
     "execution_count": 35,
     "metadata": {},
     "output_type": "execute_result"
    }
   ],
   "source": [
    "X_repeat - x_train,(X_repeat - x_train).shape#  对于每一个Xtest都和xtrain减一下   所以进行广播\n",
    "# [testnum,trainnum]"
   ]
  },
  {
   "cell_type": "code",
   "execution_count": 36,
   "metadata": {},
   "outputs": [],
   "source": [
    "attention_weights = nn.functional.softmax(-(X_repeat - x_train)**2 / 2, dim=1)\n",
    "# X_repeat:test   Q\n",
    "# x_train:K\n",
    "# 得到一个[Q,k]的距离矩阵"
   ]
  },
  {
   "cell_type": "code",
   "execution_count": 37,
   "metadata": {},
   "outputs": [
    {
     "data": {
      "text/plain": [
       "tensor([[1.5066e-01, 1.4784e-01, 1.4615e-01,  ..., 3.9708e-21, 2.7317e-21,\n",
       "         7.2550e-22],\n",
       "        [1.4143e-01, 1.4098e-01, 1.4009e-01,  ..., 9.5945e-21, 6.6264e-21,\n",
       "         1.7844e-21],\n",
       "        [1.3215e-01, 1.3383e-01, 1.3366e-01,  ..., 2.3076e-20, 1.6000e-20,\n",
       "         4.3684e-21],\n",
       "        ...,\n",
       "        [1.6259e-06, 3.3484e-06, 4.2086e-06,  ..., 8.5208e-07, 7.0513e-07,\n",
       "         3.5831e-07],\n",
       "        [1.0088e-06, 2.1105e-06, 2.6663e-06,  ..., 1.3608e-06, 1.1305e-06,\n",
       "         5.8247e-07],\n",
       "        [6.1920e-07, 1.3160e-06, 1.6711e-06,  ..., 2.1499e-06, 1.7932e-06,\n",
       "         9.3672e-07]])"
      ]
     },
     "execution_count": 37,
     "metadata": {},
     "output_type": "execute_result"
    }
   ],
   "source": [
    "attention_weights"
   ]
  },
  {
   "cell_type": "code",
   "execution_count": 41,
   "metadata": {},
   "outputs": [
    {
     "data": {
      "text/plain": [
       "(torch.Size([50, 50]),\n",
       " torch.Size([50]),\n",
       " tensor([1.4833, 1.5711, 1.6632, 1.7592, 1.8585, 1.9605, 2.0643, 2.1690, 2.2734,\n",
       "         2.3765, 2.4768, 2.5731, 2.6642, 2.7489, 2.8259, 2.8943, 2.9532, 3.0018,\n",
       "         3.0397, 3.0663, 3.0817, 3.0857, 3.0786, 3.0608, 3.0329, 2.9958, 2.9504,\n",
       "         2.8982, 2.8404, 2.7787, 2.7148, 2.6504, 2.5872, 2.5270, 2.4714, 2.4219,\n",
       "         2.3798, 2.3463, 2.3224, 2.3090, 2.3067, 2.3160, 2.3373, 2.3706, 2.4159,\n",
       "         2.4730, 2.5413, 2.6203, 2.7090, 2.8063]),\n",
       " torch.Size([50]))"
      ]
     },
     "execution_count": 41,
     "metadata": {},
     "output_type": "execute_result"
    }
   ],
   "source": [
    "y_hat=torch.matmul(attention_weights,y_train)\n",
    "# attention_weights=Q*K  y_train=K\n",
    "# 对不同位置的x的y根据距离远近进行加权求和得到预测值\n",
    "attention_weights.shape,y_train.shape,y_hat,y_hat.shape"
   ]
  },
  {
   "cell_type": "code",
   "execution_count": null,
   "metadata": {},
   "outputs": [],
   "source": [
    "d2l.show_heatmaps(attention_weights.unsqueeze(0).unsqueeze(0),\n",
    "                  xlabel='Sorted training inputs',\n",
    "                  ylabel='Sorted testing inputs')"
   ]
  },
  {
   "cell_type": "code",
   "execution_count": 46,
   "metadata": {},
   "outputs": [
    {
     "data": {
      "text/plain": [
       "(torch.Size([50, 50]), torch.Size([1, 50, 50]), torch.Size([1, 1, 50, 50]))"
      ]
     },
     "execution_count": 46,
     "metadata": {},
     "output_type": "execute_result"
    }
   ],
   "source": [
    "attention_weights.shape,attention_weights.unsqueeze(0).shape,attention_weights.unsqueeze(0).unsqueeze(0).shape\n",
    "#挤出一个维度"
   ]
  },
  {
   "cell_type": "code",
   "execution_count": 47,
   "metadata": {},
   "outputs": [
    {
     "data": {
      "image/svg+xml": [
       "<?xml version=\"1.0\" encoding=\"utf-8\" standalone=\"no\"?>\n",
       "<!DOCTYPE svg PUBLIC \"-//W3C//DTD SVG 1.1//EN\"\n",
       "  \"http://www.w3.org/Graphics/SVG/1.1/DTD/svg11.dtd\">\n",
       "<svg xmlns:xlink=\"http://www.w3.org/1999/xlink\" width=\"199.80175pt\" height=\"159.039469pt\" viewBox=\"0 0 199.80175 159.039469\" xmlns=\"http://www.w3.org/2000/svg\" version=\"1.1\">\n",
       " <metadata>\n",
       "  <rdf:RDF xmlns:dc=\"http://purl.org/dc/elements/1.1/\" xmlns:cc=\"http://creativecommons.org/ns#\" xmlns:rdf=\"http://www.w3.org/1999/02/22-rdf-syntax-ns#\">\n",
       "   <cc:Work>\n",
       "    <dc:type rdf:resource=\"http://purl.org/dc/dcmitype/StillImage\"/>\n",
       "    <dc:date>2024-09-29T02:53:50.376092</dc:date>\n",
       "    <dc:format>image/svg+xml</dc:format>\n",
       "    <dc:creator>\n",
       "     <cc:Agent>\n",
       "      <dc:title>Matplotlib v3.5.1, https://matplotlib.org/</dc:title>\n",
       "     </cc:Agent>\n",
       "    </dc:creator>\n",
       "   </cc:Work>\n",
       "  </rdf:RDF>\n",
       " </metadata>\n",
       " <defs>\n",
       "  <style type=\"text/css\">*{stroke-linejoin: round; stroke-linecap: butt}</style>\n",
       " </defs>\n",
       " <g id=\"figure_1\">\n",
       "  <g id=\"patch_1\">\n",
       "   <path d=\"M 0 159.039469 \n",
       "L 199.80175 159.039469 \n",
       "L 199.80175 0 \n",
       "L 0 0 \n",
       "z\n",
       "\" style=\"fill: #ffffff\"/>\n",
       "  </g>\n",
       "  <g id=\"axes_1\">\n",
       "   <g id=\"patch_2\">\n",
       "    <path d=\"M 40.603125 121.483219 \n",
       "L 152.203125 121.483219 \n",
       "L 152.203125 9.883219 \n",
       "L 40.603125 9.883219 \n",
       "z\n",
       "\" style=\"fill: #ffffff\"/>\n",
       "   </g>\n",
       "   <g clip-path=\"url(#p5f4295c37e)\">\n",
       "    <image xlink:href=\"data:image/png;base64,\n",
       "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\" id=\"image6948eb0625\" transform=\"scale(1 -1)translate(0 -111.6)\" x=\"40.603125\" y=\"-9.883219\" width=\"111.6\" height=\"111.6\"/>\n",
       "   </g>\n",
       "   <g id=\"matplotlib.axis_1\">\n",
       "    <g id=\"xtick_1\">\n",
       "     <g id=\"line2d_1\">\n",
       "      <defs>\n",
       "       <path id=\"mfd8cd97416\" d=\"M 0 0 \n",
       "L 0 3.5 \n",
       "\" style=\"stroke: #000000; stroke-width: 0.8\"/>\n",
       "      </defs>\n",
       "      <g>\n",
       "       <use xlink:href=\"#mfd8cd97416\" x=\"41.719125\" y=\"121.483219\" style=\"stroke: #000000; stroke-width: 0.8\"/>\n",
       "      </g>\n",
       "     </g>\n",
       "     <g id=\"text_1\">\n",
       "      <!-- 0 -->\n",
       "      <g transform=\"translate(38.537875 136.081656)scale(0.1 -0.1)\">\n",
       "       <defs>\n",
       "        <path id=\"DejaVuSans-30\" d=\"M 2034 4250 \n",
       "Q 1547 4250 1301 3770 \n",
       "Q 1056 3291 1056 2328 \n",
       "Q 1056 1369 1301 889 \n",
       "Q 1547 409 2034 409 \n",
       "Q 2525 409 2770 889 \n",
       "Q 3016 1369 3016 2328 \n",
       "Q 3016 3291 2770 3770 \n",
       "Q 2525 4250 2034 4250 \n",
       "z\n",
       "M 2034 4750 \n",
       "Q 2819 4750 3233 4129 \n",
       "Q 3647 3509 3647 2328 \n",
       "Q 3647 1150 3233 529 \n",
       "Q 2819 -91 2034 -91 \n",
       "Q 1250 -91 836 529 \n",
       "Q 422 1150 422 2328 \n",
       "Q 422 3509 836 4129 \n",
       "Q 1250 4750 2034 4750 \n",
       "z\n",
       "\" transform=\"scale(0.015625)\"/>\n",
       "       </defs>\n",
       "       <use xlink:href=\"#DejaVuSans-30\"/>\n",
       "      </g>\n",
       "     </g>\n",
       "    </g>\n",
       "    <g id=\"xtick_2\">\n",
       "     <g id=\"line2d_2\">\n",
       "      <g>\n",
       "       <use xlink:href=\"#mfd8cd97416\" x=\"86.359125\" y=\"121.483219\" style=\"stroke: #000000; stroke-width: 0.8\"/>\n",
       "      </g>\n",
       "     </g>\n",
       "     <g id=\"text_2\">\n",
       "      <!-- 20 -->\n",
       "      <g transform=\"translate(79.996625 136.081656)scale(0.1 -0.1)\">\n",
       "       <defs>\n",
       "        <path id=\"DejaVuSans-32\" d=\"M 1228 531 \n",
       "L 3431 531 \n",
       "L 3431 0 \n",
       "L 469 0 \n",
       "L 469 531 \n",
       "Q 828 903 1448 1529 \n",
       "Q 2069 2156 2228 2338 \n",
       "Q 2531 2678 2651 2914 \n",
       "Q 2772 3150 2772 3378 \n",
       "Q 2772 3750 2511 3984 \n",
       "Q 2250 4219 1831 4219 \n",
       "Q 1534 4219 1204 4116 \n",
       "Q 875 4013 500 3803 \n",
       "L 500 4441 \n",
       "Q 881 4594 1212 4672 \n",
       "Q 1544 4750 1819 4750 \n",
       "Q 2544 4750 2975 4387 \n",
       "Q 3406 4025 3406 3419 \n",
       "Q 3406 3131 3298 2873 \n",
       "Q 3191 2616 2906 2266 \n",
       "Q 2828 2175 2409 1742 \n",
       "Q 1991 1309 1228 531 \n",
       "z\n",
       "\" transform=\"scale(0.015625)\"/>\n",
       "       </defs>\n",
       "       <use xlink:href=\"#DejaVuSans-32\"/>\n",
       "       <use xlink:href=\"#DejaVuSans-30\" x=\"63.623047\"/>\n",
       "      </g>\n",
       "     </g>\n",
       "    </g>\n",
       "    <g id=\"xtick_3\">\n",
       "     <g id=\"line2d_3\">\n",
       "      <g>\n",
       "       <use xlink:href=\"#mfd8cd97416\" x=\"130.999125\" y=\"121.483219\" style=\"stroke: #000000; stroke-width: 0.8\"/>\n",
       "      </g>\n",
       "     </g>\n",
       "     <g id=\"text_3\">\n",
       "      <!-- 40 -->\n",
       "      <g transform=\"translate(124.636625 136.081656)scale(0.1 -0.1)\">\n",
       "       <defs>\n",
       "        <path id=\"DejaVuSans-34\" d=\"M 2419 4116 \n",
       "L 825 1625 \n",
       "L 2419 1625 \n",
       "L 2419 4116 \n",
       "z\n",
       "M 2253 4666 \n",
       "L 3047 4666 \n",
       "L 3047 1625 \n",
       "L 3713 1625 \n",
       "L 3713 1100 \n",
       "L 3047 1100 \n",
       "L 3047 0 \n",
       "L 2419 0 \n",
       "L 2419 1100 \n",
       "L 313 1100 \n",
       "L 313 1709 \n",
       "L 2253 4666 \n",
       "z\n",
       "\" transform=\"scale(0.015625)\"/>\n",
       "       </defs>\n",
       "       <use xlink:href=\"#DejaVuSans-34\"/>\n",
       "       <use xlink:href=\"#DejaVuSans-30\" x=\"63.623047\"/>\n",
       "      </g>\n",
       "     </g>\n",
       "    </g>\n",
       "    <g id=\"text_4\">\n",
       "     <!-- Sorted training inputs -->\n",
       "     <g transform=\"translate(41.889844 149.759781)scale(0.1 -0.1)\">\n",
       "      <defs>\n",
       "       <path id=\"DejaVuSans-53\" d=\"M 3425 4513 \n",
       "L 3425 3897 \n",
       "Q 3066 4069 2747 4153 \n",
       "Q 2428 4238 2131 4238 \n",
       "Q 1616 4238 1336 4038 \n",
       "Q 1056 3838 1056 3469 \n",
       "Q 1056 3159 1242 3001 \n",
       "Q 1428 2844 1947 2747 \n",
       "L 2328 2669 \n",
       "Q 3034 2534 3370 2195 \n",
       "Q 3706 1856 3706 1288 \n",
       "Q 3706 609 3251 259 \n",
       "Q 2797 -91 1919 -91 \n",
       "Q 1588 -91 1214 -16 \n",
       "Q 841 59 441 206 \n",
       "L 441 856 \n",
       "Q 825 641 1194 531 \n",
       "Q 1563 422 1919 422 \n",
       "Q 2459 422 2753 634 \n",
       "Q 3047 847 3047 1241 \n",
       "Q 3047 1584 2836 1778 \n",
       "Q 2625 1972 2144 2069 \n",
       "L 1759 2144 \n",
       "Q 1053 2284 737 2584 \n",
       "Q 422 2884 422 3419 \n",
       "Q 422 4038 858 4394 \n",
       "Q 1294 4750 2059 4750 \n",
       "Q 2388 4750 2728 4690 \n",
       "Q 3069 4631 3425 4513 \n",
       "z\n",
       "\" transform=\"scale(0.015625)\"/>\n",
       "       <path id=\"DejaVuSans-6f\" d=\"M 1959 3097 \n",
       "Q 1497 3097 1228 2736 \n",
       "Q 959 2375 959 1747 \n",
       "Q 959 1119 1226 758 \n",
       "Q 1494 397 1959 397 \n",
       "Q 2419 397 2687 759 \n",
       "Q 2956 1122 2956 1747 \n",
       "Q 2956 2369 2687 2733 \n",
       "Q 2419 3097 1959 3097 \n",
       "z\n",
       "M 1959 3584 \n",
       "Q 2709 3584 3137 3096 \n",
       "Q 3566 2609 3566 1747 \n",
       "Q 3566 888 3137 398 \n",
       "Q 2709 -91 1959 -91 \n",
       "Q 1206 -91 779 398 \n",
       "Q 353 888 353 1747 \n",
       "Q 353 2609 779 3096 \n",
       "Q 1206 3584 1959 3584 \n",
       "z\n",
       "\" transform=\"scale(0.015625)\"/>\n",
       "       <path id=\"DejaVuSans-72\" d=\"M 2631 2963 \n",
       "Q 2534 3019 2420 3045 \n",
       "Q 2306 3072 2169 3072 \n",
       "Q 1681 3072 1420 2755 \n",
       "Q 1159 2438 1159 1844 \n",
       "L 1159 0 \n",
       "L 581 0 \n",
       "L 581 3500 \n",
       "L 1159 3500 \n",
       "L 1159 2956 \n",
       "Q 1341 3275 1631 3429 \n",
       "Q 1922 3584 2338 3584 \n",
       "Q 2397 3584 2469 3576 \n",
       "Q 2541 3569 2628 3553 \n",
       "L 2631 2963 \n",
       "z\n",
       "\" transform=\"scale(0.015625)\"/>\n",
       "       <path id=\"DejaVuSans-74\" d=\"M 1172 4494 \n",
       "L 1172 3500 \n",
       "L 2356 3500 \n",
       "L 2356 3053 \n",
       "L 1172 3053 \n",
       "L 1172 1153 \n",
       "Q 1172 725 1289 603 \n",
       "Q 1406 481 1766 481 \n",
       "L 2356 481 \n",
       "L 2356 0 \n",
       "L 1766 0 \n",
       "Q 1100 0 847 248 \n",
       "Q 594 497 594 1153 \n",
       "L 594 3053 \n",
       "L 172 3053 \n",
       "L 172 3500 \n",
       "L 594 3500 \n",
       "L 594 4494 \n",
       "L 1172 4494 \n",
       "z\n",
       "\" transform=\"scale(0.015625)\"/>\n",
       "       <path id=\"DejaVuSans-65\" d=\"M 3597 1894 \n",
       "L 3597 1613 \n",
       "L 953 1613 \n",
       "Q 991 1019 1311 708 \n",
       "Q 1631 397 2203 397 \n",
       "Q 2534 397 2845 478 \n",
       "Q 3156 559 3463 722 \n",
       "L 3463 178 \n",
       "Q 3153 47 2828 -22 \n",
       "Q 2503 -91 2169 -91 \n",
       "Q 1331 -91 842 396 \n",
       "Q 353 884 353 1716 \n",
       "Q 353 2575 817 3079 \n",
       "Q 1281 3584 2069 3584 \n",
       "Q 2775 3584 3186 3129 \n",
       "Q 3597 2675 3597 1894 \n",
       "z\n",
       "M 3022 2063 \n",
       "Q 3016 2534 2758 2815 \n",
       "Q 2500 3097 2075 3097 \n",
       "Q 1594 3097 1305 2825 \n",
       "Q 1016 2553 972 2059 \n",
       "L 3022 2063 \n",
       "z\n",
       "\" transform=\"scale(0.015625)\"/>\n",
       "       <path id=\"DejaVuSans-64\" d=\"M 2906 2969 \n",
       "L 2906 4863 \n",
       "L 3481 4863 \n",
       "L 3481 0 \n",
       "L 2906 0 \n",
       "L 2906 525 \n",
       "Q 2725 213 2448 61 \n",
       "Q 2172 -91 1784 -91 \n",
       "Q 1150 -91 751 415 \n",
       "Q 353 922 353 1747 \n",
       "Q 353 2572 751 3078 \n",
       "Q 1150 3584 1784 3584 \n",
       "Q 2172 3584 2448 3432 \n",
       "Q 2725 3281 2906 2969 \n",
       "z\n",
       "M 947 1747 \n",
       "Q 947 1113 1208 752 \n",
       "Q 1469 391 1925 391 \n",
       "Q 2381 391 2643 752 \n",
       "Q 2906 1113 2906 1747 \n",
       "Q 2906 2381 2643 2742 \n",
       "Q 2381 3103 1925 3103 \n",
       "Q 1469 3103 1208 2742 \n",
       "Q 947 2381 947 1747 \n",
       "z\n",
       "\" transform=\"scale(0.015625)\"/>\n",
       "       <path id=\"DejaVuSans-20\" transform=\"scale(0.015625)\"/>\n",
       "       <path id=\"DejaVuSans-61\" d=\"M 2194 1759 \n",
       "Q 1497 1759 1228 1600 \n",
       "Q 959 1441 959 1056 \n",
       "Q 959 750 1161 570 \n",
       "Q 1363 391 1709 391 \n",
       "Q 2188 391 2477 730 \n",
       "Q 2766 1069 2766 1631 \n",
       "L 2766 1759 \n",
       "L 2194 1759 \n",
       "z\n",
       "M 3341 1997 \n",
       "L 3341 0 \n",
       "L 2766 0 \n",
       "L 2766 531 \n",
       "Q 2569 213 2275 61 \n",
       "Q 1981 -91 1556 -91 \n",
       "Q 1019 -91 701 211 \n",
       "Q 384 513 384 1019 \n",
       "Q 384 1609 779 1909 \n",
       "Q 1175 2209 1959 2209 \n",
       "L 2766 2209 \n",
       "L 2766 2266 \n",
       "Q 2766 2663 2505 2880 \n",
       "Q 2244 3097 1772 3097 \n",
       "Q 1472 3097 1187 3025 \n",
       "Q 903 2953 641 2809 \n",
       "L 641 3341 \n",
       "Q 956 3463 1253 3523 \n",
       "Q 1550 3584 1831 3584 \n",
       "Q 2591 3584 2966 3190 \n",
       "Q 3341 2797 3341 1997 \n",
       "z\n",
       "\" transform=\"scale(0.015625)\"/>\n",
       "       <path id=\"DejaVuSans-69\" d=\"M 603 3500 \n",
       "L 1178 3500 \n",
       "L 1178 0 \n",
       "L 603 0 \n",
       "L 603 3500 \n",
       "z\n",
       "M 603 4863 \n",
       "L 1178 4863 \n",
       "L 1178 4134 \n",
       "L 603 4134 \n",
       "L 603 4863 \n",
       "z\n",
       "\" transform=\"scale(0.015625)\"/>\n",
       "       <path id=\"DejaVuSans-6e\" d=\"M 3513 2113 \n",
       "L 3513 0 \n",
       "L 2938 0 \n",
       "L 2938 2094 \n",
       "Q 2938 2591 2744 2837 \n",
       "Q 2550 3084 2163 3084 \n",
       "Q 1697 3084 1428 2787 \n",
       "Q 1159 2491 1159 1978 \n",
       "L 1159 0 \n",
       "L 581 0 \n",
       "L 581 3500 \n",
       "L 1159 3500 \n",
       "L 1159 2956 \n",
       "Q 1366 3272 1645 3428 \n",
       "Q 1925 3584 2291 3584 \n",
       "Q 2894 3584 3203 3211 \n",
       "Q 3513 2838 3513 2113 \n",
       "z\n",
       "\" transform=\"scale(0.015625)\"/>\n",
       "       <path id=\"DejaVuSans-67\" d=\"M 2906 1791 \n",
       "Q 2906 2416 2648 2759 \n",
       "Q 2391 3103 1925 3103 \n",
       "Q 1463 3103 1205 2759 \n",
       "Q 947 2416 947 1791 \n",
       "Q 947 1169 1205 825 \n",
       "Q 1463 481 1925 481 \n",
       "Q 2391 481 2648 825 \n",
       "Q 2906 1169 2906 1791 \n",
       "z\n",
       "M 3481 434 \n",
       "Q 3481 -459 3084 -895 \n",
       "Q 2688 -1331 1869 -1331 \n",
       "Q 1566 -1331 1297 -1286 \n",
       "Q 1028 -1241 775 -1147 \n",
       "L 775 -588 \n",
       "Q 1028 -725 1275 -790 \n",
       "Q 1522 -856 1778 -856 \n",
       "Q 2344 -856 2625 -561 \n",
       "Q 2906 -266 2906 331 \n",
       "L 2906 616 \n",
       "Q 2728 306 2450 153 \n",
       "Q 2172 0 1784 0 \n",
       "Q 1141 0 747 490 \n",
       "Q 353 981 353 1791 \n",
       "Q 353 2603 747 3093 \n",
       "Q 1141 3584 1784 3584 \n",
       "Q 2172 3584 2450 3431 \n",
       "Q 2728 3278 2906 2969 \n",
       "L 2906 3500 \n",
       "L 3481 3500 \n",
       "L 3481 434 \n",
       "z\n",
       "\" transform=\"scale(0.015625)\"/>\n",
       "       <path id=\"DejaVuSans-70\" d=\"M 1159 525 \n",
       "L 1159 -1331 \n",
       "L 581 -1331 \n",
       "L 581 3500 \n",
       "L 1159 3500 \n",
       "L 1159 2969 \n",
       "Q 1341 3281 1617 3432 \n",
       "Q 1894 3584 2278 3584 \n",
       "Q 2916 3584 3314 3078 \n",
       "Q 3713 2572 3713 1747 \n",
       "Q 3713 922 3314 415 \n",
       "Q 2916 -91 2278 -91 \n",
       "Q 1894 -91 1617 61 \n",
       "Q 1341 213 1159 525 \n",
       "z\n",
       "M 3116 1747 \n",
       "Q 3116 2381 2855 2742 \n",
       "Q 2594 3103 2138 3103 \n",
       "Q 1681 3103 1420 2742 \n",
       "Q 1159 2381 1159 1747 \n",
       "Q 1159 1113 1420 752 \n",
       "Q 1681 391 2138 391 \n",
       "Q 2594 391 2855 752 \n",
       "Q 3116 1113 3116 1747 \n",
       "z\n",
       "\" transform=\"scale(0.015625)\"/>\n",
       "       <path id=\"DejaVuSans-75\" d=\"M 544 1381 \n",
       "L 544 3500 \n",
       "L 1119 3500 \n",
       "L 1119 1403 \n",
       "Q 1119 906 1312 657 \n",
       "Q 1506 409 1894 409 \n",
       "Q 2359 409 2629 706 \n",
       "Q 2900 1003 2900 1516 \n",
       "L 2900 3500 \n",
       "L 3475 3500 \n",
       "L 3475 0 \n",
       "L 2900 0 \n",
       "L 2900 538 \n",
       "Q 2691 219 2414 64 \n",
       "Q 2138 -91 1772 -91 \n",
       "Q 1169 -91 856 284 \n",
       "Q 544 659 544 1381 \n",
       "z\n",
       "M 1991 3584 \n",
       "L 1991 3584 \n",
       "z\n",
       "\" transform=\"scale(0.015625)\"/>\n",
       "       <path id=\"DejaVuSans-73\" d=\"M 2834 3397 \n",
       "L 2834 2853 \n",
       "Q 2591 2978 2328 3040 \n",
       "Q 2066 3103 1784 3103 \n",
       "Q 1356 3103 1142 2972 \n",
       "Q 928 2841 928 2578 \n",
       "Q 928 2378 1081 2264 \n",
       "Q 1234 2150 1697 2047 \n",
       "L 1894 2003 \n",
       "Q 2506 1872 2764 1633 \n",
       "Q 3022 1394 3022 966 \n",
       "Q 3022 478 2636 193 \n",
       "Q 2250 -91 1575 -91 \n",
       "Q 1294 -91 989 -36 \n",
       "Q 684 19 347 128 \n",
       "L 347 722 \n",
       "Q 666 556 975 473 \n",
       "Q 1284 391 1588 391 \n",
       "Q 1994 391 2212 530 \n",
       "Q 2431 669 2431 922 \n",
       "Q 2431 1156 2273 1281 \n",
       "Q 2116 1406 1581 1522 \n",
       "L 1381 1569 \n",
       "Q 847 1681 609 1914 \n",
       "Q 372 2147 372 2553 \n",
       "Q 372 3047 722 3315 \n",
       "Q 1072 3584 1716 3584 \n",
       "Q 2034 3584 2315 3537 \n",
       "Q 2597 3491 2834 3397 \n",
       "z\n",
       "\" transform=\"scale(0.015625)\"/>\n",
       "      </defs>\n",
       "      <use xlink:href=\"#DejaVuSans-53\"/>\n",
       "      <use xlink:href=\"#DejaVuSans-6f\" x=\"63.476562\"/>\n",
       "      <use xlink:href=\"#DejaVuSans-72\" x=\"124.658203\"/>\n",
       "      <use xlink:href=\"#DejaVuSans-74\" x=\"165.771484\"/>\n",
       "      <use xlink:href=\"#DejaVuSans-65\" x=\"204.980469\"/>\n",
       "      <use xlink:href=\"#DejaVuSans-64\" x=\"266.503906\"/>\n",
       "      <use xlink:href=\"#DejaVuSans-20\" x=\"329.980469\"/>\n",
       "      <use xlink:href=\"#DejaVuSans-74\" x=\"361.767578\"/>\n",
       "      <use xlink:href=\"#DejaVuSans-72\" x=\"400.976562\"/>\n",
       "      <use xlink:href=\"#DejaVuSans-61\" x=\"442.089844\"/>\n",
       "      <use xlink:href=\"#DejaVuSans-69\" x=\"503.369141\"/>\n",
       "      <use xlink:href=\"#DejaVuSans-6e\" x=\"531.152344\"/>\n",
       "      <use xlink:href=\"#DejaVuSans-69\" x=\"594.53125\"/>\n",
       "      <use xlink:href=\"#DejaVuSans-6e\" x=\"622.314453\"/>\n",
       "      <use xlink:href=\"#DejaVuSans-67\" x=\"685.693359\"/>\n",
       "      <use xlink:href=\"#DejaVuSans-20\" x=\"749.169922\"/>\n",
       "      <use xlink:href=\"#DejaVuSans-69\" x=\"780.957031\"/>\n",
       "      <use xlink:href=\"#DejaVuSans-6e\" x=\"808.740234\"/>\n",
       "      <use xlink:href=\"#DejaVuSans-70\" x=\"872.119141\"/>\n",
       "      <use xlink:href=\"#DejaVuSans-75\" x=\"935.595703\"/>\n",
       "      <use xlink:href=\"#DejaVuSans-74\" x=\"998.974609\"/>\n",
       "      <use xlink:href=\"#DejaVuSans-73\" x=\"1038.183594\"/>\n",
       "     </g>\n",
       "    </g>\n",
       "   </g>\n",
       "   <g id=\"matplotlib.axis_2\">\n",
       "    <g id=\"ytick_1\">\n",
       "     <g id=\"line2d_4\">\n",
       "      <defs>\n",
       "       <path id=\"m087670d6dd\" d=\"M 0 0 \n",
       "L -3.5 0 \n",
       "\" style=\"stroke: #000000; stroke-width: 0.8\"/>\n",
       "      </defs>\n",
       "      <g>\n",
       "       <use xlink:href=\"#m087670d6dd\" x=\"40.603125\" y=\"10.999219\" style=\"stroke: #000000; stroke-width: 0.8\"/>\n",
       "      </g>\n",
       "     </g>\n",
       "     <g id=\"text_5\">\n",
       "      <!-- 0 -->\n",
       "      <g transform=\"translate(27.240625 14.798438)scale(0.1 -0.1)\">\n",
       "       <use xlink:href=\"#DejaVuSans-30\"/>\n",
       "      </g>\n",
       "     </g>\n",
       "    </g>\n",
       "    <g id=\"ytick_2\">\n",
       "     <g id=\"line2d_5\">\n",
       "      <g>\n",
       "       <use xlink:href=\"#m087670d6dd\" x=\"40.603125\" y=\"33.319219\" style=\"stroke: #000000; stroke-width: 0.8\"/>\n",
       "      </g>\n",
       "     </g>\n",
       "     <g id=\"text_6\">\n",
       "      <!-- 10 -->\n",
       "      <g transform=\"translate(20.878125 37.118438)scale(0.1 -0.1)\">\n",
       "       <defs>\n",
       "        <path id=\"DejaVuSans-31\" d=\"M 794 531 \n",
       "L 1825 531 \n",
       "L 1825 4091 \n",
       "L 703 3866 \n",
       "L 703 4441 \n",
       "L 1819 4666 \n",
       "L 2450 4666 \n",
       "L 2450 531 \n",
       "L 3481 531 \n",
       "L 3481 0 \n",
       "L 794 0 \n",
       "L 794 531 \n",
       "z\n",
       "\" transform=\"scale(0.015625)\"/>\n",
       "       </defs>\n",
       "       <use xlink:href=\"#DejaVuSans-31\"/>\n",
       "       <use xlink:href=\"#DejaVuSans-30\" x=\"63.623047\"/>\n",
       "      </g>\n",
       "     </g>\n",
       "    </g>\n",
       "    <g id=\"ytick_3\">\n",
       "     <g id=\"line2d_6\">\n",
       "      <g>\n",
       "       <use xlink:href=\"#m087670d6dd\" x=\"40.603125\" y=\"55.639219\" style=\"stroke: #000000; stroke-width: 0.8\"/>\n",
       "      </g>\n",
       "     </g>\n",
       "     <g id=\"text_7\">\n",
       "      <!-- 20 -->\n",
       "      <g transform=\"translate(20.878125 59.438438)scale(0.1 -0.1)\">\n",
       "       <use xlink:href=\"#DejaVuSans-32\"/>\n",
       "       <use xlink:href=\"#DejaVuSans-30\" x=\"63.623047\"/>\n",
       "      </g>\n",
       "     </g>\n",
       "    </g>\n",
       "    <g id=\"ytick_4\">\n",
       "     <g id=\"line2d_7\">\n",
       "      <g>\n",
       "       <use xlink:href=\"#m087670d6dd\" x=\"40.603125\" y=\"77.959219\" style=\"stroke: #000000; stroke-width: 0.8\"/>\n",
       "      </g>\n",
       "     </g>\n",
       "     <g id=\"text_8\">\n",
       "      <!-- 30 -->\n",
       "      <g transform=\"translate(20.878125 81.758438)scale(0.1 -0.1)\">\n",
       "       <defs>\n",
       "        <path id=\"DejaVuSans-33\" d=\"M 2597 2516 \n",
       "Q 3050 2419 3304 2112 \n",
       "Q 3559 1806 3559 1356 \n",
       "Q 3559 666 3084 287 \n",
       "Q 2609 -91 1734 -91 \n",
       "Q 1441 -91 1130 -33 \n",
       "Q 819 25 488 141 \n",
       "L 488 750 \n",
       "Q 750 597 1062 519 \n",
       "Q 1375 441 1716 441 \n",
       "Q 2309 441 2620 675 \n",
       "Q 2931 909 2931 1356 \n",
       "Q 2931 1769 2642 2001 \n",
       "Q 2353 2234 1838 2234 \n",
       "L 1294 2234 \n",
       "L 1294 2753 \n",
       "L 1863 2753 \n",
       "Q 2328 2753 2575 2939 \n",
       "Q 2822 3125 2822 3475 \n",
       "Q 2822 3834 2567 4026 \n",
       "Q 2313 4219 1838 4219 \n",
       "Q 1578 4219 1281 4162 \n",
       "Q 984 4106 628 3988 \n",
       "L 628 4550 \n",
       "Q 988 4650 1302 4700 \n",
       "Q 1616 4750 1894 4750 \n",
       "Q 2613 4750 3031 4423 \n",
       "Q 3450 4097 3450 3541 \n",
       "Q 3450 3153 3228 2886 \n",
       "Q 3006 2619 2597 2516 \n",
       "z\n",
       "\" transform=\"scale(0.015625)\"/>\n",
       "       </defs>\n",
       "       <use xlink:href=\"#DejaVuSans-33\"/>\n",
       "       <use xlink:href=\"#DejaVuSans-30\" x=\"63.623047\"/>\n",
       "      </g>\n",
       "     </g>\n",
       "    </g>\n",
       "    <g id=\"ytick_5\">\n",
       "     <g id=\"line2d_8\">\n",
       "      <g>\n",
       "       <use xlink:href=\"#m087670d6dd\" x=\"40.603125\" y=\"100.279219\" style=\"stroke: #000000; stroke-width: 0.8\"/>\n",
       "      </g>\n",
       "     </g>\n",
       "     <g id=\"text_9\">\n",
       "      <!-- 40 -->\n",
       "      <g transform=\"translate(20.878125 104.078438)scale(0.1 -0.1)\">\n",
       "       <use xlink:href=\"#DejaVuSans-34\"/>\n",
       "       <use xlink:href=\"#DejaVuSans-30\" x=\"63.623047\"/>\n",
       "      </g>\n",
       "     </g>\n",
       "    </g>\n",
       "    <g id=\"text_10\">\n",
       "     <!-- Sorted testing inputs -->\n",
       "     <g transform=\"translate(14.798438 118.160563)rotate(-90)scale(0.1 -0.1)\">\n",
       "      <use xlink:href=\"#DejaVuSans-53\"/>\n",
       "      <use xlink:href=\"#DejaVuSans-6f\" x=\"63.476562\"/>\n",
       "      <use xlink:href=\"#DejaVuSans-72\" x=\"124.658203\"/>\n",
       "      <use xlink:href=\"#DejaVuSans-74\" x=\"165.771484\"/>\n",
       "      <use xlink:href=\"#DejaVuSans-65\" x=\"204.980469\"/>\n",
       "      <use xlink:href=\"#DejaVuSans-64\" x=\"266.503906\"/>\n",
       "      <use xlink:href=\"#DejaVuSans-20\" x=\"329.980469\"/>\n",
       "      <use xlink:href=\"#DejaVuSans-74\" x=\"361.767578\"/>\n",
       "      <use xlink:href=\"#DejaVuSans-65\" x=\"400.976562\"/>\n",
       "      <use xlink:href=\"#DejaVuSans-73\" x=\"462.5\"/>\n",
       "      <use xlink:href=\"#DejaVuSans-74\" x=\"514.599609\"/>\n",
       "      <use xlink:href=\"#DejaVuSans-69\" x=\"553.808594\"/>\n",
       "      <use xlink:href=\"#DejaVuSans-6e\" x=\"581.591797\"/>\n",
       "      <use xlink:href=\"#DejaVuSans-67\" x=\"644.970703\"/>\n",
       "      <use xlink:href=\"#DejaVuSans-20\" x=\"708.447266\"/>\n",
       "      <use xlink:href=\"#DejaVuSans-69\" x=\"740.234375\"/>\n",
       "      <use xlink:href=\"#DejaVuSans-6e\" x=\"768.017578\"/>\n",
       "      <use xlink:href=\"#DejaVuSans-70\" x=\"831.396484\"/>\n",
       "      <use xlink:href=\"#DejaVuSans-75\" x=\"894.873047\"/>\n",
       "      <use xlink:href=\"#DejaVuSans-74\" x=\"958.251953\"/>\n",
       "      <use xlink:href=\"#DejaVuSans-73\" x=\"997.460938\"/>\n",
       "     </g>\n",
       "    </g>\n",
       "   </g>\n",
       "   <g id=\"patch_3\">\n",
       "    <path d=\"M 40.603125 121.483219 \n",
       "L 40.603125 9.883219 \n",
       "\" style=\"fill: none; stroke: #000000; stroke-width: 0.8; stroke-linejoin: miter; stroke-linecap: square\"/>\n",
       "   </g>\n",
       "   <g id=\"patch_4\">\n",
       "    <path d=\"M 152.203125 121.483219 \n",
       "L 152.203125 9.883219 \n",
       "\" style=\"fill: none; stroke: #000000; stroke-width: 0.8; stroke-linejoin: miter; stroke-linecap: square\"/>\n",
       "   </g>\n",
       "   <g id=\"patch_5\">\n",
       "    <path d=\"M 40.603125 121.483219 \n",
       "L 152.203125 121.483219 \n",
       "\" style=\"fill: none; stroke: #000000; stroke-width: 0.8; stroke-linejoin: miter; stroke-linecap: square\"/>\n",
       "   </g>\n",
       "   <g id=\"patch_6\">\n",
       "    <path d=\"M 40.603125 9.883219 \n",
       "L 152.203125 9.883219 \n",
       "\" style=\"fill: none; stroke: #000000; stroke-width: 0.8; stroke-linejoin: miter; stroke-linecap: square\"/>\n",
       "   </g>\n",
       "  </g>\n",
       "  <g id=\"axes_2\">\n",
       "   <g id=\"patch_7\">\n",
       "    <path d=\"M 159.178125 107.263219 \n",
       "L 163.336125 107.263219 \n",
       "L 163.336125 24.103219 \n",
       "L 159.178125 24.103219 \n",
       "z\n",
       "\" style=\"fill: #ffffff\"/>\n",
       "   </g>\n",
       "   <g id=\"patch_8\">\n",
       "    <path clip-path=\"url(#p77c65768a9)\" style=\"fill: #ffffff; stroke: #ffffff; stroke-width: 0.01; stroke-linejoin: miter\"/>\n",
       "   </g>\n",
       "   <image xlink:href=\"data:image/png;base64,\n",
       "iVBORw0KGgoAAAANSUhEUgAAAAYAAABzCAYAAAC7I3M6AAAAv0lEQVR4nNWVQQrDQAwDXfD/v9pLT1l71Q/sBBQMpTmukMbWhuSlz1txeDK0T+d3wrYFmyFm9BTjZsFjVY/g6GgSyKFaLsOHt82gKPlT+QvaJUbVWNS/waldjqKXGh24oB9lO/RL+AOBGGoSFjLsqDm4mj6W/lSFDDcK4ZvGbXTQ36BJQAa0Hlk2nAWCF081xsBKWiQcjyNykwM6jCx0nM8jO2wH74GbQ5S/IMIXMbASnAodFwllR/mOy76Puam+t3oOUronbv0AAAAASUVORK5CYII=\" id=\"image57f32a7b26\" transform=\"scale(1 -1)translate(0 -82.8)\" x=\"159.12\" y=\"-23.76\" width=\"4.32\" height=\"82.8\"/>\n",
       "   <g id=\"matplotlib.axis_3\">\n",
       "    <g id=\"ytick_6\">\n",
       "     <g id=\"line2d_9\">\n",
       "      <defs>\n",
       "       <path id=\"mefe5e447db\" d=\"M 0 0 \n",
       "L 3.5 0 \n",
       "\" style=\"stroke: #000000; stroke-width: 0.8\"/>\n",
       "      </defs>\n",
       "      <g>\n",
       "       <use xlink:href=\"#mefe5e447db\" x=\"163.336125\" y=\"107.263219\" style=\"stroke: #000000; stroke-width: 0.8\"/>\n",
       "      </g>\n",
       "     </g>\n",
       "     <g id=\"text_11\">\n",
       "      <!-- 0.00 -->\n",
       "      <g transform=\"translate(170.336125 111.062437)scale(0.1 -0.1)\">\n",
       "       <defs>\n",
       "        <path id=\"DejaVuSans-2e\" d=\"M 684 794 \n",
       "L 1344 794 \n",
       "L 1344 0 \n",
       "L 684 0 \n",
       "L 684 794 \n",
       "z\n",
       "\" transform=\"scale(0.015625)\"/>\n",
       "       </defs>\n",
       "       <use xlink:href=\"#DejaVuSans-30\"/>\n",
       "       <use xlink:href=\"#DejaVuSans-2e\" x=\"63.623047\"/>\n",
       "       <use xlink:href=\"#DejaVuSans-30\" x=\"95.410156\"/>\n",
       "       <use xlink:href=\"#DejaVuSans-30\" x=\"159.033203\"/>\n",
       "      </g>\n",
       "     </g>\n",
       "    </g>\n",
       "    <g id=\"ytick_7\">\n",
       "     <g id=\"line2d_10\">\n",
       "      <g>\n",
       "       <use xlink:href=\"#mefe5e447db\" x=\"163.336125\" y=\"79.664662\" style=\"stroke: #000000; stroke-width: 0.8\"/>\n",
       "      </g>\n",
       "     </g>\n",
       "     <g id=\"text_12\">\n",
       "      <!-- 0.05 -->\n",
       "      <g transform=\"translate(170.336125 83.463881)scale(0.1 -0.1)\">\n",
       "       <defs>\n",
       "        <path id=\"DejaVuSans-35\" d=\"M 691 4666 \n",
       "L 3169 4666 \n",
       "L 3169 4134 \n",
       "L 1269 4134 \n",
       "L 1269 2991 \n",
       "Q 1406 3038 1543 3061 \n",
       "Q 1681 3084 1819 3084 \n",
       "Q 2600 3084 3056 2656 \n",
       "Q 3513 2228 3513 1497 \n",
       "Q 3513 744 3044 326 \n",
       "Q 2575 -91 1722 -91 \n",
       "Q 1428 -91 1123 -41 \n",
       "Q 819 9 494 109 \n",
       "L 494 744 \n",
       "Q 775 591 1075 516 \n",
       "Q 1375 441 1709 441 \n",
       "Q 2250 441 2565 725 \n",
       "Q 2881 1009 2881 1497 \n",
       "Q 2881 1984 2565 2268 \n",
       "Q 2250 2553 1709 2553 \n",
       "Q 1456 2553 1204 2497 \n",
       "Q 953 2441 691 2322 \n",
       "L 691 4666 \n",
       "z\n",
       "\" transform=\"scale(0.015625)\"/>\n",
       "       </defs>\n",
       "       <use xlink:href=\"#DejaVuSans-30\"/>\n",
       "       <use xlink:href=\"#DejaVuSans-2e\" x=\"63.623047\"/>\n",
       "       <use xlink:href=\"#DejaVuSans-30\" x=\"95.410156\"/>\n",
       "       <use xlink:href=\"#DejaVuSans-35\" x=\"159.033203\"/>\n",
       "      </g>\n",
       "     </g>\n",
       "    </g>\n",
       "    <g id=\"ytick_8\">\n",
       "     <g id=\"line2d_11\">\n",
       "      <g>\n",
       "       <use xlink:href=\"#mefe5e447db\" x=\"163.336125\" y=\"52.066106\" style=\"stroke: #000000; stroke-width: 0.8\"/>\n",
       "      </g>\n",
       "     </g>\n",
       "     <g id=\"text_13\">\n",
       "      <!-- 0.10 -->\n",
       "      <g transform=\"translate(170.336125 55.865324)scale(0.1 -0.1)\">\n",
       "       <use xlink:href=\"#DejaVuSans-30\"/>\n",
       "       <use xlink:href=\"#DejaVuSans-2e\" x=\"63.623047\"/>\n",
       "       <use xlink:href=\"#DejaVuSans-31\" x=\"95.410156\"/>\n",
       "       <use xlink:href=\"#DejaVuSans-30\" x=\"159.033203\"/>\n",
       "      </g>\n",
       "     </g>\n",
       "    </g>\n",
       "    <g id=\"ytick_9\">\n",
       "     <g id=\"line2d_12\">\n",
       "      <g>\n",
       "       <use xlink:href=\"#mefe5e447db\" x=\"163.336125\" y=\"24.467549\" style=\"stroke: #000000; stroke-width: 0.8\"/>\n",
       "      </g>\n",
       "     </g>\n",
       "     <g id=\"text_14\">\n",
       "      <!-- 0.15 -->\n",
       "      <g transform=\"translate(170.336125 28.266768)scale(0.1 -0.1)\">\n",
       "       <use xlink:href=\"#DejaVuSans-30\"/>\n",
       "       <use xlink:href=\"#DejaVuSans-2e\" x=\"63.623047\"/>\n",
       "       <use xlink:href=\"#DejaVuSans-31\" x=\"95.410156\"/>\n",
       "       <use xlink:href=\"#DejaVuSans-35\" x=\"159.033203\"/>\n",
       "      </g>\n",
       "     </g>\n",
       "    </g>\n",
       "   </g>\n",
       "   <g id=\"LineCollection_1\"/>\n",
       "   <g id=\"patch_9\">\n",
       "    <path d=\"M 159.178125 107.263219 \n",
       "L 161.257125 107.263219 \n",
       "L 163.336125 107.263219 \n",
       "L 163.336125 24.103219 \n",
       "L 161.257125 24.103219 \n",
       "L 159.178125 24.103219 \n",
       "L 159.178125 107.263219 \n",
       "z\n",
       "\" style=\"fill: none; stroke: #000000; stroke-width: 0.8; stroke-linejoin: miter; stroke-linecap: square\"/>\n",
       "   </g>\n",
       "  </g>\n",
       " </g>\n",
       " <defs>\n",
       "  <clipPath id=\"p5f4295c37e\">\n",
       "   <rect x=\"40.603125\" y=\"9.883219\" width=\"111.6\" height=\"111.6\"/>\n",
       "  </clipPath>\n",
       "  <clipPath id=\"p77c65768a9\">\n",
       "   <rect x=\"159.178125\" y=\"24.103219\" width=\"4.158\" height=\"83.16\"/>\n",
       "  </clipPath>\n",
       " </defs>\n",
       "</svg>\n"
      ],
      "text/plain": [
       "<Figure size 250x250 with 2 Axes>"
      ]
     },
     "metadata": {},
     "output_type": "display_data"
    }
   ],
   "source": [
    "d2l.show_heatmaps(attention_weights.unsqueeze(0).unsqueeze(0),\n",
    "                  xlabel='Sorted training inputs',\n",
    "                  ylabel='Sorted testing inputs')"
   ]
  },
  {
   "cell_type": "code",
   "execution_count": null,
   "metadata": {},
   "outputs": [],
   "source": [
    "###带参数注意力汇聚  可学习参数w"
   ]
  },
  {
   "cell_type": "code",
   "execution_count": 53,
   "metadata": {},
   "outputs": [
    {
     "data": {
      "text/plain": [
       "(tensor([[[1., 1., 1., 1.]],\n",
       " \n",
       "         [[1., 1., 1., 1.]]]),\n",
       " torch.Size([2, 1, 4]))"
      ]
     },
     "execution_count": 53,
     "metadata": {},
     "output_type": "execute_result"
    }
   ],
   "source": [
    "X = torch.ones((2, 1, 4))\n",
    "X,X.shape"
   ]
  },
  {
   "cell_type": "code",
   "execution_count": 55,
   "metadata": {},
   "outputs": [
    {
     "data": {
      "text/plain": [
       "tensor([[[1., 1., 1., 1., 1., 1.],\n",
       "         [1., 1., 1., 1., 1., 1.],\n",
       "         [1., 1., 1., 1., 1., 1.],\n",
       "         [1., 1., 1., 1., 1., 1.]],\n",
       "\n",
       "        [[1., 1., 1., 1., 1., 1.],\n",
       "         [1., 1., 1., 1., 1., 1.],\n",
       "         [1., 1., 1., 1., 1., 1.],\n",
       "         [1., 1., 1., 1., 1., 1.]]])"
      ]
     },
     "execution_count": 55,
     "metadata": {},
     "output_type": "execute_result"
    }
   ],
   "source": [
    "Y = torch.ones((2, 4, 6))\n",
    "Y"
   ]
  },
  {
   "cell_type": "code",
   "execution_count": 56,
   "metadata": {},
   "outputs": [
    {
     "data": {
      "text/plain": [
       "torch.Size([2, 1, 6])"
      ]
     },
     "execution_count": 56,
     "metadata": {},
     "output_type": "execute_result"
    }
   ],
   "source": [
    "torch.bmm(X, Y).shape"
   ]
  },
  {
   "cell_type": "code",
   "execution_count": 59,
   "metadata": {},
   "outputs": [
    {
     "data": {
      "text/plain": [
       "(torch.Size([2, 1, 10]), torch.Size([2, 10, 1]))"
      ]
     },
     "execution_count": 59,
     "metadata": {},
     "output_type": "execute_result"
    }
   ],
   "source": [
    "weights = torch.ones((2, 10)) * 0.1\n",
    "values = torch.arange(20.0).reshape((2, 10))\n",
    "weights.unsqueeze(1).shape,values.unsqueeze(-1).shape\n"
   ]
  },
  {
   "cell_type": "code",
   "execution_count": null,
   "metadata": {},
   "outputs": [],
   "source": []
  },
  {
   "cell_type": "code",
   "execution_count": null,
   "metadata": {},
   "outputs": [],
   "source": []
  },
  {
   "cell_type": "code",
   "execution_count": null,
   "metadata": {},
   "outputs": [],
   "source": []
  }
 ],
 "metadata": {
  "kernelspec": {
   "display_name": "d2l",
   "language": "python",
   "name": "python3"
  },
  "language_info": {
   "codemirror_mode": {
    "name": "ipython",
    "version": 3
   },
   "file_extension": ".py",
   "mimetype": "text/x-python",
   "name": "python",
   "nbconvert_exporter": "python",
   "pygments_lexer": "ipython3",
   "version": "3.9.19"
  }
 },
 "nbformat": 4,
 "nbformat_minor": 2
}
