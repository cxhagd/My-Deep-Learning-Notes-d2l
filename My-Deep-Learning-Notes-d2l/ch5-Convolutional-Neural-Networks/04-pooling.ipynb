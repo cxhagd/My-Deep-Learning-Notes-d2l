{
 "cells": [
  {
   "cell_type": "code",
   "execution_count": 1,
   "metadata": {},
   "outputs": [],
   "source": [
    "import torch \n",
    "from torch import nn\n",
    "from d2l import torch as d2l\n",
    "\n",
    "\n",
    "def pool2d(X, pool_size, mode='max'):\n",
    "    # 定义函数pool2d，参数为X（输入数据）、pool_size（池化窗口大小）、mode（池化模式，默认为最大池化'max'）。\n",
    "    # pool2d: 池化二维数据（pool是池化的缩写，2d是二维的缩写，2-dimensional）。\n",
    "    \n",
    "    p_h, p_w = pool_size\n",
    "    # 将池化窗口大小（pool_size）分别赋值给p_h（池化高度）和p_w（池化宽度）。\n",
    "    \n",
    "    Y = torch.zeros((X.shape[0] - p_h + 1, X.shape[1] - p_w + 1))\n",
    "    # 创建一个与输入数据X尺寸相关的全零矩阵Y，用于存储池化结果。\n",
    "    # X.shape[0]和X.shape[1]分别是X的行数和列数。这个语句的意思是：Y的尺寸为(X的行数 - 池化窗口高度 + 1, X的列数 - 池化窗口宽度 + 1)。\n",
    "    \n",
    "    for i in range(Y.shape[0]):\n",
    "        # 遍历Y的每一行i。\n",
    "        \n",
    "        for j in range(Y.shape[1]):\n",
    "            # 遍历Y的每一列j。\n",
    "            \n",
    "            if mode == 'max':\n",
    "                # 如果池化模式为最大池化（max pooling）。\n",
    "                \n",
    "                Y[i, j] = X[i: i + p_h, j: j + p_w].max()\n",
    "                # 对输入数据X中从第i行开始、池化窗口大小为p_h行和p_w列的子矩阵进行最大值操作，并将结果赋值给Y的第i行第j列。\n",
    "                \n",
    "            elif mode == 'avg':\n",
    "                # 如果池化模式为平均池化（average pooling）。\n",
    "                \n",
    "                Y[i, j] = X[i: i + p_h, j: j + p_w].mean()\n",
    "                # 对输入数据X中从第i行开始、池化窗口大小为p_h行和p_w列的子矩阵进行平均值操作，并将结果赋值给Y的第i行第j列。\n",
    "                \n",
    "    return Y\n",
    "    # 返回池化结果Y。\n"
   ]
  },
  {
   "cell_type": "code",
   "execution_count": 3,
   "metadata": {},
   "outputs": [
    {
     "data": {
      "text/plain": [
       "tensor([[4., 5.],\n",
       "        [7., 8.]])"
      ]
     },
     "execution_count": 3,
     "metadata": {},
     "output_type": "execute_result"
    }
   ],
   "source": [
    "X = torch.tensor([[0.0, 1.0, 2.0], [3.0, 4.0, 5.0], [6.0, 7.0, 8.0]]) \n",
    " # 定义一个3x3的二维张量X，使用torch.tensor创建。X的值为浮点数矩阵。\n",
    "# X：输入数据，矩阵形式 \n",
    "\n",
    "pool2d(X, (2, 2))\n",
    " # 调用之前定义的pool2d函数，传入X作为输入数据，(2, 2)作为池化窗口大小。\n",
    "# pool2d: 二维池化函数，参数X是输入张量，(2, 2)是池化窗口的大小，高度和宽度均为2。\n"
   ]
  },
  {
   "cell_type": "code",
   "execution_count": 4,
   "metadata": {},
   "outputs": [
    {
     "data": {
      "text/plain": [
       "tensor([[2., 3.],\n",
       "        [5., 6.]])"
      ]
     },
     "execution_count": 4,
     "metadata": {},
     "output_type": "execute_result"
    }
   ],
   "source": [
    "pool2d(X, (2, 2), 'avg')"
   ]
  },
  {
   "cell_type": "code",
   "execution_count": 5,
   "metadata": {},
   "outputs": [
    {
     "data": {
      "text/plain": [
       "tensor([[[[ 0.,  1.,  2.,  3.],\n",
       "          [ 4.,  5.,  6.,  7.],\n",
       "          [ 8.,  9., 10., 11.],\n",
       "          [12., 13., 14., 15.]]]])"
      ]
     },
     "execution_count": 5,
     "metadata": {},
     "output_type": "execute_result"
    }
   ],
   "source": [
    "X = torch.arange(16, dtype=torch.float32).reshape((1, 1, 4, 4))\n",
    "X"
   ]
  },
  {
   "cell_type": "code",
   "execution_count": 6,
   "metadata": {},
   "outputs": [
    {
     "data": {
      "text/plain": [
       "tensor([[[[10.]]]])"
      ]
     },
     "execution_count": 6,
     "metadata": {},
     "output_type": "execute_result"
    }
   ],
   "source": [
    "pool2d = nn.MaxPool2d(3)\n",
    "# 使用nn模块中的MaxPool2d函数定义一个池化操作对象pool2d，池化窗口大小为3。\n",
    "# MaxPool2d：最大池化二维（Max Pooling 2-dimensional），执行最大池化操作。\n",
    "# pool2d：池化对象，用于执行最大池化。\n",
    "\n",
    "pool2d(X)\n",
    "# 对输入的张量X进行最大池化操作，使用3x3的窗口。\n",
    "# X：输入数据，进行池化操作的输入张量。\n"
   ]
  },
  {
   "cell_type": "code",
   "execution_count": 7,
   "metadata": {},
   "outputs": [
    {
     "data": {
      "text/plain": [
       "tensor([[[[ 5.,  7.],\n",
       "          [13., 15.]]]])"
      ]
     },
     "execution_count": 7,
     "metadata": {},
     "output_type": "execute_result"
    }
   ],
   "source": [
    "#            窗口大小3*3\n",
    "pool2d = nn.MaxPool2d(3, padding=1, stride=2)\n",
    "pool2d(X)"
   ]
  },
  {
   "cell_type": "code",
   "execution_count": 8,
   "metadata": {},
   "outputs": [
    {
     "data": {
      "text/plain": [
       "tensor([[[[ 5.,  7.],\n",
       "          [13., 15.]]]])"
      ]
     },
     "execution_count": 8,
     "metadata": {},
     "output_type": "execute_result"
    }
   ],
   "source": [
    "#                   窗口大小2*3\n",
    "pool2d = nn.MaxPool2d((2, 3), stride=(2, 3), padding=(0, 1))\n",
    "pool2d(X)"
   ]
  },
  {
   "cell_type": "code",
   "execution_count": 9,
   "metadata": {},
   "outputs": [
    {
     "data": {
      "text/plain": [
       "tensor([[[[ 0.,  1.,  2.,  3.],\n",
       "          [ 4.,  5.,  6.,  7.],\n",
       "          [ 8.,  9., 10., 11.],\n",
       "          [12., 13., 14., 15.]],\n",
       "\n",
       "         [[ 1.,  2.,  3.,  4.],\n",
       "          [ 5.,  6.,  7.,  8.],\n",
       "          [ 9., 10., 11., 12.],\n",
       "          [13., 14., 15., 16.]]]])"
      ]
     },
     "execution_count": 9,
     "metadata": {},
     "output_type": "execute_result"
    }
   ],
   "source": [
    "# 双通道\n",
    "X = torch.cat((X, X + 1), 1)\n",
    "X"
   ]
  },
  {
   "cell_type": "code",
   "execution_count": 10,
   "metadata": {},
   "outputs": [
    {
     "data": {
      "text/plain": [
       "tensor([[[[ 5.,  7.],\n",
       "          [13., 15.]],\n",
       "\n",
       "         [[ 6.,  8.],\n",
       "          [14., 16.]]]])"
      ]
     },
     "execution_count": 10,
     "metadata": {},
     "output_type": "execute_result"
    }
   ],
   "source": [
    "pool2d = nn.MaxPool2d(3, padding=1, stride=2)\n",
    "pool2d(X)"
   ]
  }
 ],
 "metadata": {
  "kernelspec": {
   "display_name": "d2l",
   "language": "python",
   "name": "python3"
  },
  "language_info": {
   "codemirror_mode": {
    "name": "ipython",
    "version": 3
   },
   "file_extension": ".py",
   "mimetype": "text/x-python",
   "name": "python",
   "nbconvert_exporter": "python",
   "pygments_lexer": "ipython3",
   "version": "3.9.19"
  }
 },
 "nbformat": 4,
 "nbformat_minor": 2
}
